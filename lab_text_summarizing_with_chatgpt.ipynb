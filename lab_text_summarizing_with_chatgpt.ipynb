{
  "cells": [
    {
      "cell_type": "markdown",
      "metadata": {
        "id": "sWiUzbsQfVaI"
      },
      "source": [
        "# Text summarizing with ChaptGPT\n",
        "In this lesson, you will summarize text with a focus on specific topics.\n",
        "\n",
        "## Setup"
      ]
    },
    {
      "cell_type": "code",
      "execution_count": 5,
      "metadata": {
        "tags": [],
        "id": "J--T53TkfVaO"
      },
      "outputs": [],
      "source": [
        "from openai import OpenAI\n",
        "import os\n",
        "\n",
        "from dotenv import load_dotenv, find_dotenv\n",
        "_ = load_dotenv(find_dotenv()) # read local .env file\n",
        "\n",
        "OPENAI_API_KEY  = os.getenv('OPENAI_API_KEY')"
      ]
    },
    {
      "cell_type": "code",
      "execution_count": 6,
      "metadata": {
        "tags": [],
        "id": "308H9aodfVaR"
      },
      "outputs": [],
      "source": [
        "client = OpenAI(\n",
        "    # This is the default and can be omitted\n",
        "    api_key=OPENAI_API_KEY,\n",
        ")\n",
        "\n",
        "\n",
        "def get_completion(prompt, model=\"gpt-3.5-turbo\"): # Andrew mentioned that the prompt/ completion paradigm is preferable for this class\n",
        "    messages = [{\"role\": \"user\", \"content\": prompt}]\n",
        "    response = client.chat.completions.create(\n",
        "        model=model,\n",
        "        messages=messages,\n",
        "        temperature=0, # this is the degree of randomness of the model's output\n",
        "    )\n",
        "    return response.choices[0].message.content\n"
      ]
    },
    {
      "cell_type": "markdown",
      "metadata": {
        "id": "9J0w-raGfVaT"
      },
      "source": [
        "## Text to summarize"
      ]
    },
    {
      "cell_type": "code",
      "execution_count": 7,
      "metadata": {
        "tags": [],
        "id": "QPm4Lo2cfVaT"
      },
      "outputs": [],
      "source": [
        "prod_review = \"\"\"\n",
        "Got this panda plush toy for my daughter's birthday, \\\n",
        "who loves it and takes it everywhere. It's soft and \\\n",
        "super cute, and its face has a friendly look. It's \\\n",
        "a bit small for what I paid though. I think there \\\n",
        "might be other options that are bigger for the \\\n",
        "same price. It arrived a day earlier than expected, \\\n",
        "so I got to play with it myself before I gave it \\\n",
        "to her.\n",
        "\"\"\""
      ]
    },
    {
      "cell_type": "markdown",
      "metadata": {
        "id": "UZ2FhNMQfVaU"
      },
      "source": [
        "## Summarize with a word/sentence/character limit"
      ]
    },
    {
      "cell_type": "code",
      "execution_count": 8,
      "metadata": {
        "tags": [],
        "colab": {
          "base_uri": "https://localhost:8080/"
        },
        "id": "en4WcFr_fVaU",
        "outputId": "15c074a2-f9d5-4db2-b9b3-1ee6a6fdd080"
      },
      "outputs": [
        {
          "output_type": "stream",
          "name": "stdout",
          "text": [
            "Summary: \n",
            "Soft and cute panda plush toy loved by daughter, but smaller than expected for the price. Arrived early, allowing for personal enjoyment before gifting.\n"
          ]
        }
      ],
      "source": [
        "prompt = f\"\"\"\n",
        "Your task is to generate a short summary of a product \\\n",
        "review from an ecommerce site.\n",
        "\n",
        "Summarize the review below, delimited by triple\n",
        "backticks, in at most 30 words.\n",
        "\n",
        "Review: ```{prod_review}```\n",
        "\"\"\"\n",
        "\n",
        "response = get_completion(prompt)\n",
        "print(response)\n"
      ]
    },
    {
      "cell_type": "markdown",
      "metadata": {
        "id": "MWghCuKPfVaW"
      },
      "source": [
        "## Summarize with a focus on shipping and delivery"
      ]
    },
    {
      "cell_type": "code",
      "execution_count": 9,
      "metadata": {
        "tags": [],
        "colab": {
          "base_uri": "https://localhost:8080/"
        },
        "id": "lH6urwhwfVaX",
        "outputId": "da1c96e4-e8a4-4c64-d89c-709f7377c010"
      },
      "outputs": [
        {
          "output_type": "stream",
          "name": "stdout",
          "text": [
            "The customer was pleased with the early delivery of the panda plush toy, but felt it was slightly small for the price paid.\n"
          ]
        }
      ],
      "source": [
        "prompt = f\"\"\"\n",
        "Your task is to generate a short summary of a product \\\n",
        "review from an ecommerce site to give feedback to the \\\n",
        "Shipping deparmtment.\n",
        "\n",
        "Summarize the review below, delimited by triple\n",
        "backticks, in at most 30 words, and focusing on any aspects \\\n",
        "that mention shipping and delivery of the product.\n",
        "\n",
        "Review: ```{prod_review}```\n",
        "\"\"\"\n",
        "\n",
        "response = get_completion(prompt)\n",
        "print(response)\n"
      ]
    },
    {
      "cell_type": "markdown",
      "metadata": {
        "id": "a7Duoh87fVaX"
      },
      "source": [
        "## Summarize with a focus on price and value"
      ]
    },
    {
      "cell_type": "code",
      "execution_count": 10,
      "metadata": {
        "tags": [],
        "colab": {
          "base_uri": "https://localhost:8080/"
        },
        "id": "G8Kko9ZsfVaY",
        "outputId": "32c63f52-1840-4036-a11d-fe56718438a1"
      },
      "outputs": [
        {
          "output_type": "stream",
          "name": "stdout",
          "text": [
            "The panda plush toy is loved for its softness and cuteness, but some customers feel it's a bit small for the price.\n"
          ]
        }
      ],
      "source": [
        "prompt = f\"\"\"\n",
        "Your task is to generate a short summary of a product \\\n",
        "review from an ecommerce site to give feedback to the \\\n",
        "pricing deparmtment, responsible for determining the \\\n",
        "price of the product.\n",
        "\n",
        "Summarize the review below, delimited by triple\n",
        "backticks, in at most 30 words, and focusing on any aspects \\\n",
        "that are relevant to the price and perceived value.\n",
        "\n",
        "Review: ```{prod_review}```\n",
        "\"\"\"\n",
        "\n",
        "response = get_completion(prompt)\n",
        "print(response)\n"
      ]
    },
    {
      "cell_type": "markdown",
      "metadata": {
        "id": "CWY-cE0wfVaY"
      },
      "source": [
        "#### Comment\n",
        "- Summaries include topics that are not related to the topic of focus."
      ]
    },
    {
      "cell_type": "markdown",
      "metadata": {
        "id": "HcNKlJL9fVaZ"
      },
      "source": [
        "## Try \"extract\" instead of \"summarize\""
      ]
    },
    {
      "cell_type": "code",
      "execution_count": 11,
      "metadata": {
        "tags": [],
        "colab": {
          "base_uri": "https://localhost:8080/"
        },
        "id": "FqN2pFJUfVaa",
        "outputId": "809fc1dc-8b3d-4e80-f398-97655b9376c9"
      },
      "outputs": [
        {
          "output_type": "stream",
          "name": "stdout",
          "text": [
            "Feedback: The product arrived a day earlier than expected, allowing the customer to play with it before giving it as a gift.\n"
          ]
        }
      ],
      "source": [
        "prompt = f\"\"\"\n",
        "Your task is to extract relevant information from \\\n",
        "a product review from an ecommerce site to give \\\n",
        "feedback to the Shipping department.\n",
        "\n",
        "From the review below, delimited by triple quotes \\\n",
        "extract the information relevant to shipping and \\\n",
        "delivery. Limit to 30 words.\n",
        "\n",
        "Review: ```{prod_review}```\n",
        "\"\"\"\n",
        "\n",
        "response = get_completion(prompt)\n",
        "print(response)"
      ]
    },
    {
      "cell_type": "markdown",
      "metadata": {
        "id": "4s9RCmwofVab"
      },
      "source": [
        "## Summarize multiple product reviews"
      ]
    },
    {
      "cell_type": "code",
      "execution_count": 12,
      "metadata": {
        "tags": [],
        "id": "H9OC9s9ZfVab"
      },
      "outputs": [],
      "source": [
        "\n",
        "review_1 = prod_review\n",
        "\n",
        "# review for a standing lamp\n",
        "review_2 = \"\"\"\n",
        "Needed a nice lamp for my bedroom, and this one \\\n",
        "had additional storage and not too high of a price \\\n",
        "point. Got it fast - arrived in 2 days. The string \\\n",
        "to the lamp broke during the transit and the company \\\n",
        "happily sent over a new one. Came within a few days \\\n",
        "as well. It was easy to put together. Then I had a \\\n",
        "missing part, so I contacted their support and they \\\n",
        "very quickly got me the missing piece! Seems to me \\\n",
        "to be a great company that cares about their customers \\\n",
        "and products.\n",
        "\"\"\"\n",
        "\n",
        "# review for an electric toothbrush\n",
        "review_3 = \"\"\"\n",
        "My dental hygienist recommended an electric toothbrush, \\\n",
        "which is why I got this. The battery life seems to be \\\n",
        "pretty impressive so far. After initial charging and \\\n",
        "leaving the charger plugged in for the first week to \\\n",
        "condition the battery, I've unplugged the charger and \\\n",
        "been using it for twice daily brushing for the last \\\n",
        "3 weeks all on the same charge. But the toothbrush head \\\n",
        "is too small. I’ve seen baby toothbrushes bigger than \\\n",
        "this one. I wish the head was bigger with different \\\n",
        "length bristles to get between teeth better because \\\n",
        "this one doesn’t.  Overall if you can get this one \\\n",
        "around the $50 mark, it's a good deal. The manufactuer's \\\n",
        "replacements heads are pretty expensive, but you can \\\n",
        "get generic ones that're more reasonably priced. This \\\n",
        "toothbrush makes me feel like I've been to the dentist \\\n",
        "every day. My teeth feel sparkly clean!\n",
        "\"\"\"\n",
        "\n",
        "# review for a blender\n",
        "review_4 = \"\"\"\n",
        "So, they still had the 17 piece system on seasonal \\\n",
        "sale for around $49 in the month of November, about \\\n",
        "half off, but for some reason (call it price gouging) \\\n",
        "around the second week of December the prices all went \\\n",
        "up to about anywhere from between $70-$89 for the same \\\n",
        "system. And the 11 piece system went up around $10 or \\\n",
        "so in price also from the earlier sale price of $29. \\\n",
        "So it looks okay, but if you look at the base, the part \\\n",
        "where the blade locks into place doesn’t look as good \\\n",
        "as in previous editions from a few years ago, but I \\\n",
        "plan to be very gentle with it (example, I crush \\\n",
        "very hard items like beans, ice, rice, etc. in the \\\n",
        "blender first then pulverize them in the serving size \\\n",
        "I want in the blender then switch to the whipping \\\n",
        "blade for a finer flour, and use the cross cutting blade \\\n",
        "first when making smoothies, then use the flat blade \\\n",
        "if I need them finer/less pulpy). Special tip when making \\\n",
        "smoothies, finely cut and freeze the fruits and \\\n",
        "vegetables (if using spinach-lightly stew soften the \\\n",
        "spinach then freeze until ready for use-and if making \\\n",
        "sorbet, use a small to medium sized food processor) \\\n",
        "that you plan to use that way you can avoid adding so \\\n",
        "much ice if at all-when making your smoothie. \\\n",
        "After about a year, the motor was making a funny noise. \\\n",
        "I called customer service but the warranty expired \\\n",
        "already, so I had to buy another one. FYI: The overall \\\n",
        "quality has gone done in these types of products, so \\\n",
        "they are kind of counting on brand recognition and \\\n",
        "consumer loyalty to maintain sales. Got it in about \\\n",
        "two days.\n",
        "\"\"\"\n",
        "\n",
        "reviews = [review_1, review_2, review_3, review_4]"
      ]
    },
    {
      "cell_type": "code",
      "execution_count": 13,
      "metadata": {
        "tags": [],
        "colab": {
          "base_uri": "https://localhost:8080/"
        },
        "id": "rqTAJscIfVab",
        "outputId": "ef968122-79a6-4d16-c332-c3f93811af16"
      },
      "outputs": [
        {
          "output_type": "stream",
          "name": "stdout",
          "text": [
            "0 Summary: \n",
            "Adorable panda plush loved by daughter, but small for price. Arrived early, soft and cute. \n",
            "\n",
            "1 ```\n",
            "Affordable lamp with storage, fast delivery, excellent customer service for missing parts. Great company that cares.\n",
            "``` \n",
            "\n",
            "2 Impressive battery life, small toothbrush head, good deal for $50, generic replacement heads available, leaves teeth feeling clean. \n",
            "\n",
            "3 Summary: Price increased post-sale, quality decline, motor issue after a year, frozen fruits tip for smoothies. \n",
            "\n"
          ]
        }
      ],
      "source": [
        "for i in range(len(reviews)):\n",
        "    prompt = f\"\"\"\n",
        "    Your task is to generate a short summary of a product \\\n",
        "    review from an ecommerce site.\n",
        "\n",
        "    Summarize the review below, delimited by triple \\\n",
        "    backticks in at most 20 words.\n",
        "\n",
        "    Review: ```{reviews[i]}```\n",
        "    \"\"\"\n",
        "\n",
        "    response = get_completion(prompt)\n",
        "    print(i, response, \"\\n\")"
      ]
    },
    {
      "cell_type": "markdown",
      "metadata": {
        "id": "Du2ly4tsfVac"
      },
      "source": [
        "# Exercise\n",
        " - Complete the prompts similar to what we did in class.\n",
        "     - Try at least 3 versions\n",
        "     - Be creative\n",
        " - Write a one page report summarizing your findings.\n",
        "     - Were there variations that didn't work well? i.e., where GPT either hallucinated or wrong\n",
        " - What did you learn?"
      ]
    },
    {
      "cell_type": "code",
      "execution_count": 16,
      "metadata": {
        "colab": {
          "base_uri": "https://localhost:8080/"
        },
        "id": "vzutqnuWfVac",
        "outputId": "8700651c-a762-4eca-c1b7-ff71d95aa3f5"
      },
      "outputs": [
        {
          "output_type": "stream",
          "name": "stdout",
          "text": [
            "Experiment 1: General Summary\n",
            "```\n",
            "Soft and cute panda plush toy loved by daughter, but smaller than expected for the price. Arrived early, friendly face.\n",
            "``` \n",
            "\n",
            "Experiment 2: Shipping and Delivery\n",
            "```\n",
            "Panda plush toy arrived a day early, allowing for personal inspection before gifting. Soft, cute, but smaller than expected for the price.\n",
            "``` \n",
            "\n",
            "Experiment 3: Price and Value\n",
            "```\n",
            "Cute and soft panda plush toy, loved by daughter. Price may be high for size, but arrived early. Consider larger options for same cost.\n",
            "``` \n",
            "\n",
            "Experiment 4: Multiple Review Summary\n",
            "Review 1: ```\n",
            "Soft and cute panda plush toy loved by daughter, but smaller than expected for the price. Arrived early, friendly face design.\n",
            "```\n",
            "Review 2: Great lamp with storage, fast delivery, responsive customer service. Easy to assemble. Company cares about customers and products.\n",
            "Review 3: Impressive battery life, small toothbrush head, good deal around $50, expensive manufacturer replacement heads, generic replacements available, teeth feel clean like after a dentist visit.\n",
            "Review 4: The product had a price increase after a seasonal sale, with concerns about the quality of the blade lock and motor noise after a year of use.\n"
          ]
        }
      ],
      "source": [
        "from openai import OpenAI\n",
        "import os\n",
        "from dotenv import load_dotenv, find_dotenv\n",
        "\n",
        "# Load environment variables\n",
        "_ = load_dotenv(find_dotenv())  # read local .env file\n",
        "OPENAI_API_KEY = os.getenv('OPENAI_API_KEY')\n",
        "\n",
        "# Initialize OpenAI client\n",
        "client = OpenAI(api_key=OPENAI_API_KEY)\n",
        "\n",
        "# Function to get completion from GPT-3.5\n",
        "def get_completion(prompt, model=\"gpt-3.5-turbo\"):\n",
        "    messages = [{\"role\": \"user\", \"content\": prompt}]\n",
        "    response = client.chat.completions.create(\n",
        "        model=model,\n",
        "        messages=messages,\n",
        "        temperature=0,  # Control randomness\n",
        "    )\n",
        "    return response.choices[0].message.content\n",
        "\n",
        "# Product review examples\n",
        "prod_review = \"\"\"\n",
        "Got this panda plush toy for my daughter's birthday, who loves it and takes it everywhere. It's soft and\n",
        "super cute, and its face has a friendly look. It's a bit small for what I paid though. I think there\n",
        "might be other options that are bigger for the same price. It arrived a day earlier than expected,\n",
        "so I got to play with it myself before I gave it to her.\n",
        "\"\"\"\n",
        "\n",
        "# Define a list of reviews for the multiple summary experiment\n",
        "reviews = [\n",
        "    prod_review,  # Panda plush toy review\n",
        "    \"\"\"\n",
        "    Needed a nice lamp for my bedroom, and this one had additional storage and not too high of a price point.\n",
        "    Got it fast - arrived in 2 days. The string to the lamp broke during the transit and the company\n",
        "    happily sent over a new one. Came within a few days as well. It was easy to put together. Then I had a\n",
        "    missing part, so I contacted their support and they very quickly got me the missing piece! Seems to me\n",
        "    to be a great company that cares about their customers and products.\n",
        "    \"\"\",  # Standing lamp review\n",
        "    \"\"\"\n",
        "    My dental hygienist recommended an electric toothbrush, which is why I got this. The battery life seems\n",
        "    to be pretty impressive so far. After initial charging and leaving the charger plugged in for the first\n",
        "    week to condition the battery, I've unplugged the charger and been using it for twice daily brushing\n",
        "    for the last 3 weeks all on the same charge. But the toothbrush head is too small. I’ve seen baby toothbrushes\n",
        "    bigger than this one. I wish the head was bigger with different length bristles to get between teeth better\n",
        "    because this one doesn’t. Overall if you can get this one around the $50 mark, it's a good deal. The manufacturer's\n",
        "    replacements heads are pretty expensive, but you can get generic ones that're more reasonably priced. This\n",
        "    toothbrush makes me feel like I've been to the dentist every day. My teeth feel sparkly clean!\n",
        "    \"\"\",  # Electric toothbrush review\n",
        "    \"\"\"\n",
        "    So, they still had the 17 piece system on seasonal sale for around $49 in the month of November, about half off,\n",
        "    but for some reason (call it price gouging) around the second week of December the prices all went up to about\n",
        "    anywhere from between $70-$89 for the same system. And the 11 piece system went up around $10 or so in price also\n",
        "    from the earlier sale price of $29. So it looks okay, but if you look at the base, the part where the blade locks\n",
        "    into place doesn’t look as good as in previous editions from a few years ago, but I plan to be very gentle with it.\n",
        "    After about a year, the motor was making a funny noise. I called customer service but the warranty expired already,\n",
        "    so I had to buy another one. FYI: The overall quality has gone down in these types of products, so they are kind\n",
        "    of counting on brand recognition and consumer loyalty to maintain sales. Got it in about two days.\n",
        "    \"\"\"  # Blender review\n",
        "]\n",
        "\n",
        "# Function to summarize reviews with different focuses\n",
        "def summarize_review(review, focus):\n",
        "    prompt = f\"\"\"\n",
        "    Your task is to generate a short summary of a product review from an ecommerce site.\n",
        "    Summarize the review below, delimited by triple backticks, focusing on {focus} in at most 30 words.\n",
        "\n",
        "    Review:\n",
        "    ```{review}```\n",
        "    \"\"\"\n",
        "    return get_completion(prompt)\n",
        "\n",
        "# Experiment 1: Focus on General Summary\n",
        "print(\"Experiment 1: General Summary\")\n",
        "summary_1 = summarize_review(prod_review, \"general product features\")\n",
        "print(summary_1, \"\\n\")\n",
        "\n",
        "# Experiment 2: Focus on Shipping and Delivery\n",
        "print(\"Experiment 2: Shipping and Delivery\")\n",
        "summary_2 = summarize_review(prod_review, \"shipping and delivery\")\n",
        "print(summary_2, \"\\n\")\n",
        "\n",
        "# Experiment 3: Focus on Price and Value\n",
        "print(\"Experiment 3: Price and Value\")\n",
        "summary_3 = summarize_review(prod_review, \"price and value\")\n",
        "print(summary_3, \"\\n\")\n",
        "\n",
        "# Experiment 4: Summarizing Multiple Reviews\n",
        "print(\"Experiment 4: Multiple Review Summary\")\n",
        "for i, review in enumerate(reviews):\n",
        "    summary = summarize_review(review, \"general product features\")\n",
        "    print(f\"Review {i+1}: {summary}\")\n"
      ]
    },
    {
      "cell_type": "code",
      "source": [],
      "metadata": {
        "id": "5iFBhyt_f0rN"
      },
      "execution_count": 13,
      "outputs": []
    }
  ],
  "metadata": {
    "kernelspec": {
      "display_name": "Python 3 (ipykernel)",
      "language": "python",
      "name": "python3"
    },
    "language_info": {
      "codemirror_mode": {
        "name": "ipython",
        "version": 3
      },
      "file_extension": ".py",
      "mimetype": "text/x-python",
      "name": "python",
      "nbconvert_exporter": "python",
      "pygments_lexer": "ipython3",
      "version": "3.11.8"
    },
    "colab": {
      "provenance": []
    }
  },
  "nbformat": 4,
  "nbformat_minor": 0
}